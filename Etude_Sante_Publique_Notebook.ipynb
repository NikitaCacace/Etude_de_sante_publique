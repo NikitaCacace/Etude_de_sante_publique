{
 "cells": [
  {
   "cell_type": "markdown",
   "source": [
    "Import des librairies et données nécessaires à l'étude:\r\n",
    "==="
   ],
   "metadata": {}
  },
  {
   "cell_type": "code",
   "execution_count": 1,
   "source": [
    "# Librairie de calcul\r\n",
    "import pandas as pd\r\n",
    "\r\n",
    "# Librairie de visualisation\r\n",
    "import matplotlib.pyplot as plt\r\n",
    "\r\n",
    "# Options globales pour l'output display\r\n",
    "pd.options.display.float_format = \"{:.3f}\".format\r\n",
    "colors = [\"#b2eca7\",\"#ffcc97\",\"#676283\",\"#72bbff\",\"#d2a0f2\",\"#0abdc0\"]\r\n",
    "\r\n",
    "# Import des données\r\n",
    "aide_alimentaire_df = pd.read_csv(\"aide_alimentaire.csv\",parse_dates = [1])\r\n",
    "dispo_alimentaire_df = pd.read_csv(\"dispo_alimentaire.csv\")\r\n",
    "population_df = pd.read_csv(\"population.csv\",parse_dates = [1])\r\n",
    "sous_nutrition_df = pd.read_csv(\"sous_nutrition.csv\")\r\n",
    "cereales_df = pd.read_csv(\"cereales.csv\")"
   ],
   "outputs": [],
   "metadata": {}
  },
  {
   "cell_type": "markdown",
   "source": [
    "Renommage des colonnes des différents Dataframe \r\n",
    "===\r\n",
    "*(simplification, suppression des colonnes inutiles, homogénisation..)*\r\n"
   ],
   "metadata": {}
  },
  {
   "cell_type": "code",
   "execution_count": 2,
   "source": [
    "dispo_alimentaire_df = dispo_alimentaire_df.rename(columns = {\r\n",
    "    \"Aliments pour animaux\":                                        \"Alim_Animale\",\r\n",
    "    \"Autres Utilisations\":                                          \"Autre_Utilisation\",\r\n",
    "    \"Disponibilité alimentaire (Kcal/personne/jour)\":               \"Dispo_Alim_kcal_pers_j\",\r\n",
    "    \"Disponibilité alimentaire en quantité (kg/personne/an)\":       \"Dispo_Alim_kg_pers_an\",\r\n",
    "    \"Disponibilité de matière grasse en quantité (g/personne/jour)\":\"Dispo_Mat_Grasse_g_pers_j\",\r\n",
    "    \"Disponibilité de protéines en quantité (g/personne/jour)\":     \"Dispo_Prot_g_pers_j\",\r\n",
    "    \"Disponibilité intérieure\":                                     \"Dispo_Int\",\r\n",
    "    \"Exportations - Quantité\":                                      \"Exportations\",\r\n",
    "    \"Importations - Quantité\":                                      \"Importations\",\r\n",
    "    \"Variation de stock\":                                           \"Variation_Stock\"\r\n",
    "})\r\n",
    "\r\n",
    "population_df = population_df.rename(columns = {\r\n",
    "    \"Année\":                                                        \"Annee\",\r\n",
    "    \"Valeur\":                                                       \"Population\"\r\n",
    "})\r\n",
    "\r\n",
    "sous_nutrition_df = sous_nutrition_df.rename(columns = {\r\n",
    "    \"Année\":                                                        \"Annee\",\r\n",
    "    \"Valeur\":                                                       \"Sous_Nutrition\"\r\n",
    "})\r\n",
    "\r\n",
    "aide_alimentaire_df = aide_alimentaire_df.rename(columns = {\r\n",
    "    \"Pays bénéficiaire\":                                            \"Zone\",\r\n",
    "    \"Année\":                                                        \"Annee\",\r\n",
    "    \"Valeur\":                                                       \"Aide_Alim\"\r\n",
    "})\r\n",
    "\r\n",
    "cereales_df = cereales_df.drop([\r\n",
    "                                \"Code Domaine\",\r\n",
    "                                \"Domaine\",\r\n",
    "                                \"Code Pays\",\r\n",
    "                                \"Code Produit\",\r\n",
    "                                \"Code Année\"],\r\n",
    "                              axis=1)\r\n",
    "\r\n",
    "cereales_df = cereales_df.rename(columns={\r\n",
    "    \"Pays\":                                                         \"Zone\",\r\n",
    "    \"Année\":                                                        \"Anne\",\r\n",
    "    \"Unité\":                                                        \"Unite\",\r\n",
    "    \"Description du symbole\":                                       \"Description_Symbole\"\r\n",
    "})"
   ],
   "outputs": [],
   "metadata": {}
  },
  {
   "cell_type": "markdown",
   "source": [
    "Observation et nettoyage des Dataframes:\r\n",
    "==="
   ],
   "metadata": {}
  },
  {
   "cell_type": "markdown",
   "source": [
    "sous_nutrition_df:\r\n",
    "---"
   ],
   "metadata": {}
  },
  {
   "cell_type": "code",
   "execution_count": 3,
   "source": [
    "sous_nutrition_df.info()"
   ],
   "outputs": [
    {
     "output_type": "stream",
     "name": "stdout",
     "text": [
      "<class 'pandas.core.frame.DataFrame'>\n",
      "RangeIndex: 1218 entries, 0 to 1217\n",
      "Data columns (total 3 columns):\n",
      " #   Column          Non-Null Count  Dtype \n",
      "---  ------          --------------  ----- \n",
      " 0   Zone            1218 non-null   object\n",
      " 1   Annee           1218 non-null   object\n",
      " 2   Sous_Nutrition  624 non-null    object\n",
      "dtypes: object(3)\n",
      "memory usage: 28.7+ KB\n"
     ]
    }
   ],
   "metadata": {}
  },
  {
   "cell_type": "markdown",
   "source": [
    "**Les valeurs de \"Sous_Nutrition\" sont lues comme des objets (object) et non comme des chiffres à virgules (float64) car certaines valent \"<0,1\". On choisit de les remplacer par 0 en l'absence de plus d'informations (*on aurait pu choisir de le remplacer par 0,1*), il manque aussi des valeurs, il faudra calculer le pourcentage de valeurs manquantes puis les remplacer par 0 pour les calculs.**\r\n",
    "\r\n",
    "**Les dates sont sous la forme \"201x-201z\", il faut les transformer en \"201x+1\" d'après le lexique des données.**"
   ],
   "metadata": {}
  },
  {
   "cell_type": "code",
   "execution_count": 4,
   "source": [
    "# Correction des valeurs dans Sous_Nutrition:\r\n",
    "sous_nutrition_df = sous_nutrition_df.replace(to_replace = [\"<0.1\"],value = 0)\r\n",
    "sous_nutrition_df[\"Sous_Nutrition\"] = sous_nutrition_df[\"Sous_Nutrition\"].astype(\"float64\")\r\n",
    "\r\n",
    "# Conversion des dates de \"201x-201z\" à \"201x+1\"\r\n",
    "sous_nutrition_df[\"Annee\"] = sous_nutrition_df[\"Annee\"].str.slice(0,4)\r\n",
    "sous_nutrition_df[\"Annee\"] = sous_nutrition_df[\"Annee\"].astype(int)+1"
   ],
   "outputs": [],
   "metadata": {}
  },
  {
   "cell_type": "code",
   "execution_count": 5,
   "source": [
    "# Compte des valeurs manquantes:\r\n",
    "print(sous_nutrition_df.isnull().sum() * 100 / len(sous_nutrition_df))"
   ],
   "outputs": [
    {
     "output_type": "stream",
     "name": "stdout",
     "text": [
      "Zone              0.000\n",
      "Annee             0.000\n",
      "Sous_Nutrition   48.768\n",
      "dtype: float64\n"
     ]
    }
   ],
   "metadata": {}
  },
  {
   "cell_type": "markdown",
   "source": [
    "**Il manque 48,77% des valeurs de Sous_Nutrition, c'est important et il faudra en tenir compte lors des analyses.**"
   ],
   "metadata": {}
  },
  {
   "cell_type": "code",
   "execution_count": 6,
   "source": [
    "# Remplacement des valeurs nulles (NaN) par 0:\r\n",
    "sous_nutrition_df[\"Sous_Nutrition\"].fillna(0,inplace = True)"
   ],
   "outputs": [],
   "metadata": {}
  },
  {
   "cell_type": "code",
   "execution_count": 7,
   "source": [
    "sous_nutrition_df.describe()"
   ],
   "outputs": [
    {
     "output_type": "execute_result",
     "data": {
      "text/html": [
       "<div>\n",
       "<style scoped>\n",
       "    .dataframe tbody tr th:only-of-type {\n",
       "        vertical-align: middle;\n",
       "    }\n",
       "\n",
       "    .dataframe tbody tr th {\n",
       "        vertical-align: top;\n",
       "    }\n",
       "\n",
       "    .dataframe thead th {\n",
       "        text-align: right;\n",
       "    }\n",
       "</style>\n",
       "<table border=\"1\" class=\"dataframe\">\n",
       "  <thead>\n",
       "    <tr style=\"text-align: right;\">\n",
       "      <th></th>\n",
       "      <th>Annee</th>\n",
       "      <th>Sous_Nutrition</th>\n",
       "    </tr>\n",
       "  </thead>\n",
       "  <tbody>\n",
       "    <tr>\n",
       "      <th>count</th>\n",
       "      <td>1218.000</td>\n",
       "      <td>1218.000</td>\n",
       "    </tr>\n",
       "    <tr>\n",
       "      <th>mean</th>\n",
       "      <td>2015.500</td>\n",
       "      <td>2.615</td>\n",
       "    </tr>\n",
       "    <tr>\n",
       "      <th>std</th>\n",
       "      <td>1.709</td>\n",
       "      <td>14.149</td>\n",
       "    </tr>\n",
       "    <tr>\n",
       "      <th>min</th>\n",
       "      <td>2013.000</td>\n",
       "      <td>0.000</td>\n",
       "    </tr>\n",
       "    <tr>\n",
       "      <th>25%</th>\n",
       "      <td>2014.000</td>\n",
       "      <td>0.000</td>\n",
       "    </tr>\n",
       "    <tr>\n",
       "      <th>50%</th>\n",
       "      <td>2015.500</td>\n",
       "      <td>0.000</td>\n",
       "    </tr>\n",
       "    <tr>\n",
       "      <th>75%</th>\n",
       "      <td>2017.000</td>\n",
       "      <td>1.200</td>\n",
       "    </tr>\n",
       "    <tr>\n",
       "      <th>max</th>\n",
       "      <td>2018.000</td>\n",
       "      <td>203.800</td>\n",
       "    </tr>\n",
       "  </tbody>\n",
       "</table>\n",
       "</div>"
      ],
      "text/plain": [
       "         Annee  Sous_Nutrition\n",
       "count 1218.000        1218.000\n",
       "mean  2015.500           2.615\n",
       "std      1.709          14.149\n",
       "min   2013.000           0.000\n",
       "25%   2014.000           0.000\n",
       "50%   2015.500           0.000\n",
       "75%   2017.000           1.200\n",
       "max   2018.000         203.800"
      ]
     },
     "metadata": {},
     "execution_count": 7
    }
   ],
   "metadata": {}
  },
  {
   "cell_type": "markdown",
   "source": [
    "**La colonne année n'a pas de sens, mais cela donne tout de même un premier aperçu de la répartition des valeurs de Sous_Nutrition.**"
   ],
   "metadata": {}
  },
  {
   "cell_type": "markdown",
   "source": [
    "aide_alimentaire_df:\r\n",
    "---"
   ],
   "metadata": {}
  },
  {
   "cell_type": "code",
   "execution_count": 8,
   "source": [
    "aide_alimentaire_df.info()"
   ],
   "outputs": [
    {
     "output_type": "stream",
     "name": "stdout",
     "text": [
      "<class 'pandas.core.frame.DataFrame'>\n",
      "RangeIndex: 1475 entries, 0 to 1474\n",
      "Data columns (total 4 columns):\n",
      " #   Column     Non-Null Count  Dtype         \n",
      "---  ------     --------------  -----         \n",
      " 0   Zone       1475 non-null   object        \n",
      " 1   Annee      1475 non-null   datetime64[ns]\n",
      " 2   Produit    1475 non-null   object        \n",
      " 3   Aide_Alim  1475 non-null   int64         \n",
      "dtypes: datetime64[ns](1), int64(1), object(2)\n",
      "memory usage: 46.2+ KB\n"
     ]
    }
   ],
   "metadata": {}
  },
  {
   "cell_type": "markdown",
   "source": [
    "**Il n'y a pas de valeurs manquantes, les objets sont du bon type, il faut par contre convertir les dates DD/MM/YYYY en YYYY seulement.**"
   ],
   "metadata": {}
  },
  {
   "cell_type": "code",
   "execution_count": 9,
   "source": [
    "# Conversion des dates:\r\n",
    "aide_alimentaire_df[\"Annee\"] = aide_alimentaire_df[\"Annee\"].dt.strftime(\"%Y\")"
   ],
   "outputs": [],
   "metadata": {}
  },
  {
   "cell_type": "code",
   "execution_count": 10,
   "source": [
    "aide_alimentaire_df.describe()"
   ],
   "outputs": [
    {
     "output_type": "execute_result",
     "data": {
      "text/html": [
       "<div>\n",
       "<style scoped>\n",
       "    .dataframe tbody tr th:only-of-type {\n",
       "        vertical-align: middle;\n",
       "    }\n",
       "\n",
       "    .dataframe tbody tr th {\n",
       "        vertical-align: top;\n",
       "    }\n",
       "\n",
       "    .dataframe thead th {\n",
       "        text-align: right;\n",
       "    }\n",
       "</style>\n",
       "<table border=\"1\" class=\"dataframe\">\n",
       "  <thead>\n",
       "    <tr style=\"text-align: right;\">\n",
       "      <th></th>\n",
       "      <th>Aide_Alim</th>\n",
       "    </tr>\n",
       "  </thead>\n",
       "  <tbody>\n",
       "    <tr>\n",
       "      <th>count</th>\n",
       "      <td>1475.000</td>\n",
       "    </tr>\n",
       "    <tr>\n",
       "      <th>mean</th>\n",
       "      <td>7481.967</td>\n",
       "    </tr>\n",
       "    <tr>\n",
       "      <th>std</th>\n",
       "      <td>23339.531</td>\n",
       "    </tr>\n",
       "    <tr>\n",
       "      <th>min</th>\n",
       "      <td>0.000</td>\n",
       "    </tr>\n",
       "    <tr>\n",
       "      <th>25%</th>\n",
       "      <td>287.500</td>\n",
       "    </tr>\n",
       "    <tr>\n",
       "      <th>50%</th>\n",
       "      <td>1178.000</td>\n",
       "    </tr>\n",
       "    <tr>\n",
       "      <th>75%</th>\n",
       "      <td>4334.500</td>\n",
       "    </tr>\n",
       "    <tr>\n",
       "      <th>max</th>\n",
       "      <td>265013.000</td>\n",
       "    </tr>\n",
       "  </tbody>\n",
       "</table>\n",
       "</div>"
      ],
      "text/plain": [
       "       Aide_Alim\n",
       "count   1475.000\n",
       "mean    7481.967\n",
       "std    23339.531\n",
       "min        0.000\n",
       "25%      287.500\n",
       "50%     1178.000\n",
       "75%     4334.500\n",
       "max   265013.000"
      ]
     },
     "metadata": {},
     "execution_count": 10
    }
   ],
   "metadata": {}
  },
  {
   "cell_type": "markdown",
   "source": [
    "**Premier aperçu de la répartition des valeurs d'Aide_Alim.**"
   ],
   "metadata": {}
  },
  {
   "cell_type": "markdown",
   "source": [
    "population_df:\r\n",
    "---"
   ],
   "metadata": {}
  },
  {
   "cell_type": "code",
   "execution_count": 11,
   "source": [
    "population_df.info()"
   ],
   "outputs": [
    {
     "output_type": "stream",
     "name": "stdout",
     "text": [
      "<class 'pandas.core.frame.DataFrame'>\n",
      "RangeIndex: 1416 entries, 0 to 1415\n",
      "Data columns (total 3 columns):\n",
      " #   Column      Non-Null Count  Dtype         \n",
      "---  ------      --------------  -----         \n",
      " 0   Zone        1416 non-null   object        \n",
      " 1   Annee       1416 non-null   datetime64[ns]\n",
      " 2   Population  1416 non-null   float64       \n",
      "dtypes: datetime64[ns](1), float64(1), object(1)\n",
      "memory usage: 33.3+ KB\n"
     ]
    }
   ],
   "metadata": {}
  },
  {
   "cell_type": "markdown",
   "source": [
    "**Il n'y a pas de valeurs manquantes, les objets sont du bon type, il faut par contre convertir les dates DD/MM/YYYY en YYYY seulement.**"
   ],
   "metadata": {}
  },
  {
   "cell_type": "code",
   "execution_count": 12,
   "source": [
    "# Conversion des dates:\r\n",
    "population_df[\"Annee\"] = population_df[\"Annee\"].dt.strftime(\"%Y\")"
   ],
   "outputs": [],
   "metadata": {}
  },
  {
   "cell_type": "code",
   "execution_count": 13,
   "source": [
    "population_df.describe()"
   ],
   "outputs": [
    {
     "output_type": "execute_result",
     "data": {
      "text/html": [
       "<div>\n",
       "<style scoped>\n",
       "    .dataframe tbody tr th:only-of-type {\n",
       "        vertical-align: middle;\n",
       "    }\n",
       "\n",
       "    .dataframe tbody tr th {\n",
       "        vertical-align: top;\n",
       "    }\n",
       "\n",
       "    .dataframe thead th {\n",
       "        text-align: right;\n",
       "    }\n",
       "</style>\n",
       "<table border=\"1\" class=\"dataframe\">\n",
       "  <thead>\n",
       "    <tr style=\"text-align: right;\">\n",
       "      <th></th>\n",
       "      <th>Population</th>\n",
       "    </tr>\n",
       "  </thead>\n",
       "  <tbody>\n",
       "    <tr>\n",
       "      <th>count</th>\n",
       "      <td>1416.000</td>\n",
       "    </tr>\n",
       "    <tr>\n",
       "      <th>mean</th>\n",
       "      <td>31447.929</td>\n",
       "    </tr>\n",
       "    <tr>\n",
       "      <th>std</th>\n",
       "      <td>130081.183</td>\n",
       "    </tr>\n",
       "    <tr>\n",
       "      <th>min</th>\n",
       "      <td>0.793</td>\n",
       "    </tr>\n",
       "    <tr>\n",
       "      <th>25%</th>\n",
       "      <td>378.341</td>\n",
       "    </tr>\n",
       "    <tr>\n",
       "      <th>50%</th>\n",
       "      <td>5126.480</td>\n",
       "    </tr>\n",
       "    <tr>\n",
       "      <th>75%</th>\n",
       "      <td>19306.663</td>\n",
       "    </tr>\n",
       "    <tr>\n",
       "      <th>max</th>\n",
       "      <td>1427647.786</td>\n",
       "    </tr>\n",
       "  </tbody>\n",
       "</table>\n",
       "</div>"
      ],
      "text/plain": [
       "       Population\n",
       "count    1416.000\n",
       "mean    31447.929\n",
       "std    130081.183\n",
       "min         0.793\n",
       "25%       378.341\n",
       "50%      5126.480\n",
       "75%     19306.663\n",
       "max   1427647.786"
      ]
     },
     "metadata": {},
     "execution_count": 13
    }
   ],
   "metadata": {}
  },
  {
   "cell_type": "markdown",
   "source": [
    "**Premier aperçu de la répartition des valeurs de Population. Il aurait été intéressant d'avoir la correspondance à la Zone pour certaines valeurs (*min, max...*)**"
   ],
   "metadata": {}
  },
  {
   "cell_type": "markdown",
   "source": [
    "dispo_alimentaire_df:\r\n",
    "---"
   ],
   "metadata": {}
  },
  {
   "cell_type": "code",
   "execution_count": 14,
   "source": [
    "dispo_alimentaire_df.info()"
   ],
   "outputs": [
    {
     "output_type": "stream",
     "name": "stdout",
     "text": [
      "<class 'pandas.core.frame.DataFrame'>\n",
      "RangeIndex: 15605 entries, 0 to 15604\n",
      "Data columns (total 18 columns):\n",
      " #   Column                     Non-Null Count  Dtype  \n",
      "---  ------                     --------------  -----  \n",
      " 0   Zone                       15605 non-null  object \n",
      " 1   Produit                    15605 non-null  object \n",
      " 2   Origine                    15605 non-null  object \n",
      " 3   Alim_Animale               2720 non-null   float64\n",
      " 4   Autre_Utilisation          5496 non-null   float64\n",
      " 5   Dispo_Alim_kcal_pers_j     14241 non-null  float64\n",
      " 6   Dispo_Alim_kg_pers_an      14015 non-null  float64\n",
      " 7   Dispo_Mat_Grasse_g_pers_j  11794 non-null  float64\n",
      " 8   Dispo_Prot_g_pers_j        11561 non-null  float64\n",
      " 9   Dispo_Int                  15382 non-null  float64\n",
      " 10  Exportations               12226 non-null  float64\n",
      " 11  Importations               14852 non-null  float64\n",
      " 12  Nourriture                 14015 non-null  float64\n",
      " 13  Pertes                     4278 non-null   float64\n",
      " 14  Production                 9180 non-null   float64\n",
      " 15  Semences                   2091 non-null   float64\n",
      " 16  Traitement                 2292 non-null   float64\n",
      " 17  Variation_Stock            6776 non-null   float64\n",
      "dtypes: float64(15), object(3)\n",
      "memory usage: 2.1+ MB\n"
     ]
    }
   ],
   "metadata": {}
  },
  {
   "cell_type": "markdown",
   "source": [
    "**Les valeurs ont le bon type, on doit cependant calculer le pourcentage de valeurs manquantes qui seront ensuite remplacées par 0.**"
   ],
   "metadata": {}
  },
  {
   "cell_type": "code",
   "execution_count": 15,
   "source": [
    "# Comptage des valeurs manquantes:\r\n",
    "print(dispo_alimentaire_df.isnull().sum() * 100 / len(dispo_alimentaire_df))"
   ],
   "outputs": [
    {
     "output_type": "stream",
     "name": "stdout",
     "text": [
      "Zone                         0.000\n",
      "Produit                      0.000\n",
      "Origine                      0.000\n",
      "Alim_Animale                82.570\n",
      "Autre_Utilisation           64.781\n",
      "Dispo_Alim_kcal_pers_j       8.741\n",
      "Dispo_Alim_kg_pers_an       10.189\n",
      "Dispo_Mat_Grasse_g_pers_j   24.422\n",
      "Dispo_Prot_g_pers_j         25.915\n",
      "Dispo_Int                    1.429\n",
      "Exportations                21.653\n",
      "Importations                 4.825\n",
      "Nourriture                  10.189\n",
      "Pertes                      72.586\n",
      "Production                  41.173\n",
      "Semences                    86.600\n",
      "Traitement                  85.312\n",
      "Variation_Stock             56.578\n",
      "dtype: float64\n"
     ]
    }
   ],
   "metadata": {}
  },
  {
   "cell_type": "markdown",
   "source": [
    "**Il manque beaucoup de données dans certaines colonnes, plus de 80% dans Alim_Animale, Semences et Traitement par exemple. Pour la Dispo_Alim_kcal_pers_j, Dipo_Int et les Importations il manque moins de 10% des valeurs ce qui est une bonne chose puisque beaucoup de calculs vont reposer sur ces données. Il faudra donc rester vigilant selon les calculs effectués.**"
   ],
   "metadata": {}
  },
  {
   "cell_type": "code",
   "execution_count": 16,
   "source": [
    "# Remplacement des valeurs nulles par 0:\r\n",
    "dispo_alimentaire_df.fillna(0,inplace = True)"
   ],
   "outputs": [],
   "metadata": {}
  },
  {
   "cell_type": "code",
   "execution_count": 17,
   "source": [
    "dispo_alimentaire_df.describe()"
   ],
   "outputs": [
    {
     "output_type": "execute_result",
     "data": {
      "text/html": [
       "<div>\n",
       "<style scoped>\n",
       "    .dataframe tbody tr th:only-of-type {\n",
       "        vertical-align: middle;\n",
       "    }\n",
       "\n",
       "    .dataframe tbody tr th {\n",
       "        vertical-align: top;\n",
       "    }\n",
       "\n",
       "    .dataframe thead th {\n",
       "        text-align: right;\n",
       "    }\n",
       "</style>\n",
       "<table border=\"1\" class=\"dataframe\">\n",
       "  <thead>\n",
       "    <tr style=\"text-align: right;\">\n",
       "      <th></th>\n",
       "      <th>Alim_Animale</th>\n",
       "      <th>Autre_Utilisation</th>\n",
       "      <th>Dispo_Alim_kcal_pers_j</th>\n",
       "      <th>Dispo_Alim_kg_pers_an</th>\n",
       "      <th>Dispo_Mat_Grasse_g_pers_j</th>\n",
       "      <th>Dispo_Prot_g_pers_j</th>\n",
       "      <th>Dispo_Int</th>\n",
       "      <th>Exportations</th>\n",
       "      <th>Importations</th>\n",
       "      <th>Nourriture</th>\n",
       "      <th>Pertes</th>\n",
       "      <th>Production</th>\n",
       "      <th>Semences</th>\n",
       "      <th>Traitement</th>\n",
       "      <th>Variation_Stock</th>\n",
       "    </tr>\n",
       "  </thead>\n",
       "  <tbody>\n",
       "    <tr>\n",
       "      <th>count</th>\n",
       "      <td>15605.000</td>\n",
       "      <td>15605.000</td>\n",
       "      <td>15605.000</td>\n",
       "      <td>15605.000</td>\n",
       "      <td>15605.000</td>\n",
       "      <td>15605.000</td>\n",
       "      <td>15605.000</td>\n",
       "      <td>15605.000</td>\n",
       "      <td>15605.000</td>\n",
       "      <td>15605.000</td>\n",
       "      <td>15605.000</td>\n",
       "      <td>15605.000</td>\n",
       "      <td>15605.000</td>\n",
       "      <td>15605.000</td>\n",
       "      <td>15605.000</td>\n",
       "    </tr>\n",
       "    <tr>\n",
       "      <th>mean</th>\n",
       "      <td>83.579</td>\n",
       "      <td>55.432</td>\n",
       "      <td>31.749</td>\n",
       "      <td>7.831</td>\n",
       "      <td>0.970</td>\n",
       "      <td>0.907</td>\n",
       "      <td>631.143</td>\n",
       "      <td>86.649</td>\n",
       "      <td>83.054</td>\n",
       "      <td>312.480</td>\n",
       "      <td>29.074</td>\n",
       "      <td>641.441</td>\n",
       "      <td>9.912</td>\n",
       "      <td>141.281</td>\n",
       "      <td>-6.690</td>\n",
       "    </tr>\n",
       "    <tr>\n",
       "      <th>std</th>\n",
       "      <td>1779.289</td>\n",
       "      <td>3013.630</td>\n",
       "      <td>102.961</td>\n",
       "      <td>23.479</td>\n",
       "      <td>3.247</td>\n",
       "      <td>3.144</td>\n",
       "      <td>9002.564</td>\n",
       "      <td>933.435</td>\n",
       "      <td>700.099</td>\n",
       "      <td>4242.855</td>\n",
       "      <td>584.672</td>\n",
       "      <td>9270.864</td>\n",
       "      <td>194.898</td>\n",
       "      <td>3992.568</td>\n",
       "      <td>362.381</td>\n",
       "    </tr>\n",
       "    <tr>\n",
       "      <th>min</th>\n",
       "      <td>0.000</td>\n",
       "      <td>0.000</td>\n",
       "      <td>-21.000</td>\n",
       "      <td>-1.930</td>\n",
       "      <td>-0.030</td>\n",
       "      <td>-0.370</td>\n",
       "      <td>-3430.000</td>\n",
       "      <td>-41.000</td>\n",
       "      <td>-201.000</td>\n",
       "      <td>-246.000</td>\n",
       "      <td>0.000</td>\n",
       "      <td>0.000</td>\n",
       "      <td>0.000</td>\n",
       "      <td>-19.000</td>\n",
       "      <td>-39863.000</td>\n",
       "    </tr>\n",
       "    <tr>\n",
       "      <th>25%</th>\n",
       "      <td>0.000</td>\n",
       "      <td>0.000</td>\n",
       "      <td>0.000</td>\n",
       "      <td>0.010</td>\n",
       "      <td>0.000</td>\n",
       "      <td>0.000</td>\n",
       "      <td>0.000</td>\n",
       "      <td>0.000</td>\n",
       "      <td>0.000</td>\n",
       "      <td>0.000</td>\n",
       "      <td>0.000</td>\n",
       "      <td>0.000</td>\n",
       "      <td>0.000</td>\n",
       "      <td>0.000</td>\n",
       "      <td>0.000</td>\n",
       "    </tr>\n",
       "    <tr>\n",
       "      <th>50%</th>\n",
       "      <td>0.000</td>\n",
       "      <td>0.000</td>\n",
       "      <td>3.000</td>\n",
       "      <td>0.520</td>\n",
       "      <td>0.020</td>\n",
       "      <td>0.020</td>\n",
       "      <td>6.000</td>\n",
       "      <td>0.000</td>\n",
       "      <td>1.000</td>\n",
       "      <td>3.000</td>\n",
       "      <td>0.000</td>\n",
       "      <td>0.000</td>\n",
       "      <td>0.000</td>\n",
       "      <td>0.000</td>\n",
       "      <td>0.000</td>\n",
       "    </tr>\n",
       "    <tr>\n",
       "      <th>75%</th>\n",
       "      <td>0.000</td>\n",
       "      <td>0.000</td>\n",
       "      <td>18.000</td>\n",
       "      <td>4.270</td>\n",
       "      <td>0.310</td>\n",
       "      <td>0.350</td>\n",
       "      <td>73.000</td>\n",
       "      <td>4.000</td>\n",
       "      <td>16.000</td>\n",
       "      <td>40.000</td>\n",
       "      <td>0.000</td>\n",
       "      <td>42.000</td>\n",
       "      <td>0.000</td>\n",
       "      <td>0.000</td>\n",
       "      <td>0.000</td>\n",
       "    </tr>\n",
       "    <tr>\n",
       "      <th>max</th>\n",
       "      <td>150000.000</td>\n",
       "      <td>347309.000</td>\n",
       "      <td>1711.000</td>\n",
       "      <td>430.760</td>\n",
       "      <td>60.760</td>\n",
       "      <td>54.970</td>\n",
       "      <td>739267.000</td>\n",
       "      <td>42797.000</td>\n",
       "      <td>63381.000</td>\n",
       "      <td>426850.000</td>\n",
       "      <td>55047.000</td>\n",
       "      <td>739267.000</td>\n",
       "      <td>17060.000</td>\n",
       "      <td>326711.000</td>\n",
       "      <td>5284.000</td>\n",
       "    </tr>\n",
       "  </tbody>\n",
       "</table>\n",
       "</div>"
      ],
      "text/plain": [
       "       Alim_Animale  Autre_Utilisation  Dispo_Alim_kcal_pers_j  \\\n",
       "count     15605.000          15605.000               15605.000   \n",
       "mean         83.579             55.432                  31.749   \n",
       "std        1779.289           3013.630                 102.961   \n",
       "min           0.000              0.000                 -21.000   \n",
       "25%           0.000              0.000                   0.000   \n",
       "50%           0.000              0.000                   3.000   \n",
       "75%           0.000              0.000                  18.000   \n",
       "max      150000.000         347309.000                1711.000   \n",
       "\n",
       "       Dispo_Alim_kg_pers_an  Dispo_Mat_Grasse_g_pers_j  Dispo_Prot_g_pers_j  \\\n",
       "count              15605.000                  15605.000            15605.000   \n",
       "mean                   7.831                      0.970                0.907   \n",
       "std                   23.479                      3.247                3.144   \n",
       "min                   -1.930                     -0.030               -0.370   \n",
       "25%                    0.010                      0.000                0.000   \n",
       "50%                    0.520                      0.020                0.020   \n",
       "75%                    4.270                      0.310                0.350   \n",
       "max                  430.760                     60.760               54.970   \n",
       "\n",
       "       Dispo_Int  Exportations  Importations  Nourriture    Pertes  \\\n",
       "count  15605.000     15605.000     15605.000   15605.000 15605.000   \n",
       "mean     631.143        86.649        83.054     312.480    29.074   \n",
       "std     9002.564       933.435       700.099    4242.855   584.672   \n",
       "min    -3430.000       -41.000      -201.000    -246.000     0.000   \n",
       "25%        0.000         0.000         0.000       0.000     0.000   \n",
       "50%        6.000         0.000         1.000       3.000     0.000   \n",
       "75%       73.000         4.000        16.000      40.000     0.000   \n",
       "max   739267.000     42797.000     63381.000  426850.000 55047.000   \n",
       "\n",
       "       Production  Semences  Traitement  Variation_Stock  \n",
       "count   15605.000 15605.000   15605.000        15605.000  \n",
       "mean      641.441     9.912     141.281           -6.690  \n",
       "std      9270.864   194.898    3992.568          362.381  \n",
       "min         0.000     0.000     -19.000       -39863.000  \n",
       "25%         0.000     0.000       0.000            0.000  \n",
       "50%         0.000     0.000       0.000            0.000  \n",
       "75%        42.000     0.000       0.000            0.000  \n",
       "max    739267.000 17060.000  326711.000         5284.000  "
      ]
     },
     "metadata": {},
     "execution_count": 17
    }
   ],
   "metadata": {}
  },
  {
   "cell_type": "markdown",
   "source": [
    "**Premier aperçu de la répartition des valeurs. Il aurait été intéressant d'avoir la correspondance à la Zone pour certaines valeurs (*min, max...*). On trouve des valeurs négatives:** \r\n",
    "* Une ligne concernant le disponibilité alimentaire de l'avoine au Japon, toutes les valeurs sont négatives.\r\n",
    "* On retrouve aussi une valeur négative pour le traitement de la viande bovine en Hongrie.\r\n",
    "* Certaines Dispo_Int sont négatives (putôt nombreuses).\r\n",
    "   *      #faire un choix concernant les corrections "
   ],
   "metadata": {}
  },
  {
   "cell_type": "code",
   "execution_count": null,
   "source": [],
   "outputs": [],
   "metadata": {}
  },
  {
   "cell_type": "markdown",
   "source": [
    "Définition des constantes et valeurs utilisées régulièrement:\r\n",
    "---"
   ],
   "metadata": {}
  },
  {
   "cell_type": "code",
   "execution_count": 18,
   "source": [
    "BESOIN_KCAL_J = 2500\r\n",
    "JOURS_PAR_AN = 365\r\n",
    "pop_tot_2017 = round(sum(population_df.loc[(population_df[\"Annee\"]==\"2017\"),\"Population\"]*1000),3)"
   ],
   "outputs": [],
   "metadata": {}
  },
  {
   "cell_type": "markdown",
   "source": [
    "* **Population mondiale en 2017: 7 548 134 111 soit 7,5 milliards**\r\n",
    "* **Ces valeurs sont des moyennes, il faudrait pour être précis prendre en compte la tranche d'age, le sexe, l'état de santé ect...** \r\n",
    "    * [référence besoins kcal/personnes/jours moyens](https://www.efsa.europa.eu/fr/press/news/130110)"
   ],
   "metadata": {}
  },
  {
   "cell_type": "markdown",
   "source": [
    "* *Compte du nombre de zones via nbr_zones = df[\"Zone\"].nunique()*\r\n",
    "* *Attention, le nombre de zones variable selon les df:*\r\n",
    "    * *174 zones dans dipo_alimentaire_df*\r\n",
    "    * *236 zones dans population_df*\r\n",
    "    * *203 zones dans sous_nutrition_df*\r\n",
    "    * *76 zones dans aide_alimentaire_df*\r\n",
    "* *On utilisera donc au besoin la formule adaptée dans les calculs*\r\n"
   ],
   "metadata": {}
  },
  {
   "cell_type": "markdown",
   "source": [
    "QUESTIONS\r\n",
    "==="
   ],
   "metadata": {}
  },
  {
   "cell_type": "markdown",
   "source": [
    "**Proportion de personnes en état de sous-nutrition en 2017:**\r\n",
    "---"
   ],
   "metadata": {}
  },
  {
   "cell_type": "code",
   "execution_count": 19,
   "source": [
    "proportion_sous_nutrition_2017 = round(\r\n",
    "                                    (sum(sous_nutrition_df.loc[(sous_nutrition_df[\"Annee\"]==2017),\r\n",
    "                                    \"Sous_Nutrition\"])*1000000)*100\r\n",
    "                                    /pop_tot_2017,\r\n",
    "                                    3)\r\n",
    "\r\n",
    "print(proportion_sous_nutrition_2017,\r\n",
    "      \"% de la population mondiale était en état de sous-nutrition en 2017 soit\",\r\n",
    "      round(proportion_sous_nutrition_2017*pop_tot_2017/100,0),\r\n",
    "      \"personnes.\"\r\n",
    "      )"
   ],
   "outputs": [
    {
     "output_type": "stream",
     "name": "stdout",
     "text": [
      "7.097 % de la population mondiale était en état de sous-nutrition en 2017 soit 535691078.0 personnes.\n"
     ]
    }
   ],
   "metadata": {}
  },
  {
   "cell_type": "markdown",
   "source": [
    "**1000000 car valeur par millions d'habitants*\r\n",
    "\r\n",
    "**D'après nos données, 7% de la population mondiale était en sous-nutrition en 2017 soit environ 536 millions de personnes.**\r\n",
    "\r\n",
    "**Les chiffres officels de 2017 approchent plus des [821 millions](https://www.who.int/fr/news/item/11-09-2018-global-hunger-continues-to-rise---new-un-report-says#:~:text=Selon%20le%20rapport%20sur%20l,soit%20une%20personne%20sur%20neuf). Cette différence peut venir des 48,77% de valeurs manquantes dans Sous_Nutrition, dont nous avions parlé lors de l'étude du jeu de données, ces dernières ont été remplacées par 0 d'office mais il est probable qu'elles n'étaient en réalité pas nulles.**"
   ],
   "metadata": {}
  },
  {
   "cell_type": "markdown",
   "source": [
    "**Nombre théorique de personnes qui pourraient être nourries à partir de la disponibilité alimentaire mondiale en 2017:**\r\n",
    "---"
   ],
   "metadata": {}
  },
  {
   "cell_type": "code",
   "execution_count": 20,
   "source": [
    "nbr_zones = dispo_alimentaire_df[\"Zone\"].nunique()\r\n",
    "\r\n",
    "dispo_alim_kcal_pers_an = round(sum(dispo_alimentaire_df[\"Dispo_Alim_kcal_pers_j\"])\r\n",
    "                                    /nbr_zones* JOURS_PAR_AN\r\n",
    "                                    /(BESOIN_KCAL_J*JOURS_PAR_AN)\r\n",
    "                                ,3)\r\n",
    "\r\n",
    "print(nbr_zones,\"pays sont présents dans nos données\")\r\n",
    "print(\"Il est possible de nourrir\",dispo_alim_kcal_pers_an,\r\n",
    "      \"fois la population mondiale soit\",round(dispo_alim_kcal_pers_an*pop_tot_2017,0),\r\n",
    "      \"personnes.\"\r\n",
    "      )"
   ],
   "outputs": [
    {
     "output_type": "stream",
     "name": "stdout",
     "text": [
      "174 pays sont présents dans nos données\n",
      "Il est possible de nourrir 1.139 fois la population mondiale soit 8597324752.0 personnes.\n"
     ]
    }
   ],
   "metadata": {}
  },
  {
   "cell_type": "markdown",
   "source": [
    "**Il existe [193](https://www.un.org/fr/about-us/growth-un-membership-1945-present) pays reconnus par l'ONU, hors, comme on peut le voir seulement 174 sont présents dans nos données, de plus la Chine est sur-représentée puisque séparée en quatre régions. On obtient donc un résultat indiquant qu'il serait possible de nourrir 1,139 personne avec la disponibilité alimentaire en 2017 qui n'est probablement pas parfaitement en adéquation avec la réalité mais reste représentatif.**"
   ],
   "metadata": {}
  },
  {
   "cell_type": "markdown",
   "source": [
    "**Nombre théorique de personnes qui pourraient être nourries à partir de la disponibilité alimentaire végétale mondiale en 2017:**\r\n",
    "---"
   ],
   "metadata": {}
  },
  {
   "cell_type": "code",
   "execution_count": 21,
   "source": [
    "dispo_alim_veg_kcal_pers_an = round(sum(dispo_alimentaire_df.loc[dispo_alimentaire_df[\"Origine\"]==\"vegetale\",\r\n",
    "                                                                \"Dispo_Alim_kcal_pers_j\"])\r\n",
    "                                      /nbr_zones* JOURS_PAR_AN\r\n",
    "                                      /(BESOIN_KCAL_J*JOURS_PAR_AN)\r\n",
    "                                 ,3)\r\n",
    "\r\n",
    "print(nbr_zones,\"pays sont présents dans nos données\")\r\n",
    "print(\"Il est possible de nourrir\",dispo_alim_veg_kcal_pers_an,\r\n",
    "      \"fois la population mondiale soit\",\r\n",
    "      round(dispo_alim_veg_kcal_pers_an*pop_tot_2017,0),\r\n",
    "      \"personnes.\"\r\n",
    "      )"
   ],
   "outputs": [
    {
     "output_type": "stream",
     "name": "stdout",
     "text": [
      "174 pays sont présents dans nos données\n",
      "Il est possible de nourrir 0.917 fois la population mondiale soit 6921638980.0 personnes.\n"
     ]
    }
   ],
   "metadata": {}
  },
  {
   "cell_type": "markdown",
   "source": [
    "**Il est possible de nourrir la quasi-totalité de la population mondiale seulement avec la disponibilité alimentaire d'origine végétale. Ici on retrouve le même problème que précédemment concernant la représentativité de nos données.**"
   ],
   "metadata": {}
  },
  {
   "cell_type": "markdown",
   "source": [
    "**L'utilisation de la disponibilité intérieure, en particulier la part attribuée à l'alimentation animale, les pertes, et celle utilisée pour l'alimentation humaine en 2017:**\r\n",
    "---"
   ],
   "metadata": {}
  },
  {
   "cell_type": "code",
   "execution_count": 22,
   "source": [
    "dispo_int_tot = sum(dispo_alimentaire_df[\"Dispo_Int\"])\r\n",
    "\r\n",
    "Use_Dispo_Int = dispo_alimentaire_df.groupby(\"Dispo_Int\")[[\"Nourriture\",\r\n",
    "                                                         \"Traitement\",\r\n",
    "                                                         \"Alim_Animale\",\r\n",
    "                                                         \"Autre_Utilisation\",\r\n",
    "                                                         \"Pertes\",\r\n",
    "                                                         \"Semences\"]].sum()\r\n",
    "\r\n",
    "print(Use_Dispo_Int.sum()*100/dispo_int_tot)\r\n",
    "\r\n",
    "#Sous forme graphique:\r\n",
    "data_fig1 = Use_Dispo_Int.sum()\r\n",
    "fig1, ax1 = plt.subplots()\r\n",
    "ax1.pie(data_fig1,\r\n",
    "        labels=[\"Nourriture\",\"Traitement\",\"Alim_Animale\",\"Autre_Utilisation\",\"Pertes\",\"Semences\"],\r\n",
    "        autopct=\"%1.1f%%\",\r\n",
    "        colors=colors,\r\n",
    "        shadow=True)\r\n",
    "ax1.axis(\"equal\")\r\n",
    "plt.show()"
   ],
   "outputs": [
    {
     "output_type": "stream",
     "name": "stdout",
     "text": [
      "Nourriture          49.510\n",
      "Traitement          22.385\n",
      "Alim_Animale        13.242\n",
      "Autre_Utilisation    8.783\n",
      "Pertes               4.607\n",
      "Semences             1.571\n",
      "dtype: float64\n"
     ]
    },
    {
     "output_type": "display_data",
     "data": {
      "image/png": "[encoded data removed]",
      "text/plain": [
       "<Figure size 432x288 with 1 Axes>"
      ]
     },
     "metadata": {}
    }
   ],
   "metadata": {}
  },
  {
   "cell_type": "markdown",
   "source": [
    "**Environ 50% de la disponibilité intérieure est utilisée pour l'alimentation humaine.**\r\n",
    "\r\n",
    "On remarque également que:\r\n",
    "* **Disponibilité intérieure = Nourriture+ Traitement + Alimentation animale + Autres utilisations + Pertes + Semences**\r\n",
    "\r\n",
    "**En effet, ces paramètres additionnés permettent d'atteindre 100% de la disponibilité alimentaire, on en profite donc pour expliquer le lien logique entre l’ensemble des 10 variables exprimées en milliers de tonnes sur les utilisations de la disponibilité intérieure selon une équation du type : A1 + A2 + … = disponibilité intérieure = B1 + B2 + …**\r\n",
    "\r\n",
    "**La première partie correspond donc à l'addition des paramètres ci-dessus**\r\n",
    "\r\n",
    "Les autres variables exprimées en milliers de tonnes sont:\r\n",
    "* Les exportations\r\n",
    "* Les importations\r\n",
    "* La varation des Stock\r\n",
    "* La production"
   ],
   "metadata": {}
  },
  {
   "cell_type": "code",
   "execution_count": 23,
   "source": [
    "alt_dispo_int = dispo_alimentaire_df.groupby(\"Dispo_Int\")[[\"Production\",\r\n",
    "                                                           \"Exportations\",\r\n",
    "                                                           \"Importations\",\r\n",
    "                                                           \"Variation_Stock\"]].sum()\r\n",
    "\r\n",
    "print(alt_dispo_int.sum()*100/dispo_int_tot)"
   ],
   "outputs": [
    {
     "output_type": "stream",
     "name": "stdout",
     "text": [
      "Production        101.631\n",
      "Exportations       13.729\n",
      "Importations       13.159\n",
      "Variation_Stock    -1.060\n",
      "dtype: float64\n"
     ]
    }
   ],
   "metadata": {}
  },
  {
   "cell_type": "markdown",
   "source": [
    "**D'apres les chiffres ci-dessus, le lien logique entre la disponibilité intérieure et les variables ci-dessus est du type:**\r\n",
    "* **Disponibilité intérieure = Production + Importation - Exportation + Variation des stocks**\r\n",
    "\r\n",
    "**Hors arrondis, si on applique cette équation on arrive en effet à expliquer 100% de la disponibilité intérieure.**"
   ],
   "metadata": {}
  },
  {
   "cell_type": "markdown",
   "source": [
    "**Pays pour lesquel la proportion des personnes sous-alimentées est la plus forte en 2017:**\r\n",
    "---"
   ],
   "metadata": {}
  },
  {
   "cell_type": "code",
   "execution_count": 24,
   "source": [
    "sous_nut_2017 = sous_nutrition_df.loc[(population_df[\"Annee\"]==\"2017\"),(\"Zone\",\"Sous_Nutrition\")]\r\n",
    "\r\n",
    "print(\"Pays ayant la plus grande proportion de personnes sous-alimentées\")\r\n",
    "print(sous_nut_2017.nlargest(10,\"Sous_Nutrition\"))"
   ],
   "outputs": [
    {
     "output_type": "stream",
     "name": "stdout",
     "text": [
      "Pays ayant la plus grande proportion de personnes sous-alimentées\n",
      "                                           Zone  Sous_Nutrition\n",
      "508                                        Inde         190.100\n",
      "820                                    Pakistan          24.800\n",
      "514                                   Indonésie          23.600\n",
      "772                                     Nigéria          22.800\n",
      "100                                  Bangladesh          21.500\n",
      "370                                    Éthiopie          21.100\n",
      "868                                 Philippines          15.700\n",
      "952                 République-Unie de Tanzanie          13.400\n",
      "946  République populaire démocratique de Corée          12.000\n",
      "580                                       Kenya          11.900\n"
     ]
    }
   ],
   "metadata": {}
  },
  {
   "cell_type": "markdown",
   "source": [
    "*Nombre de personnes en sous-alimentation par millions d'habitants*\r\n",
    "\r\n",
    "**On retrouve les pays attendus selon le [classsement de 2015](https://fr.wikipedia.org/wiki/Liste_des_pays_par_taux_de_malnutrition) avec quelques irrégulaité, en effet l'Inde semble avoir une valeur très suppérrieure aux autres pays, cependant, les autres valeurs de Sous_Nutrition pour l'Inde pour les autres années sont cohérentes (toutes dans les centaines).**"
   ],
   "metadata": {}
  },
  {
   "cell_type": "markdown",
   "source": [
    "**Les pays qui ont le plus bénéficié d'aide depuis 2013**\r\n",
    "---"
   ],
   "metadata": {}
  },
  {
   "cell_type": "code",
   "execution_count": 25,
   "source": [
    "pays_beneficiaires = aide_alimentaire_df.groupby([\"Zone\"])[\"Aide_Alim\"].sum()\r\n",
    "\r\n",
    "print(\"Pays ayant le plus bénéficié d'aide alimentaire (en tonnes) depuis 2013\")\r\n",
    "print(pays_beneficiaires.nlargest(10))"
   ],
   "outputs": [
    {
     "output_type": "stream",
     "name": "stdout",
     "text": [
      "Pays ayant le plus bénéficié d'aide alimentaire (en tonnes) depuis 2013\n",
      "Zone\n",
      "République arabe syrienne           1858943\n",
      "Éthiopie                            1381294\n",
      "Yémen                               1206484\n",
      "Soudan du Sud                        695248\n",
      "Soudan                               669784\n",
      "Kenya                                552836\n",
      "Bangladesh                           348188\n",
      "Somalie                              292678\n",
      "République démocratique du Congo     288502\n",
      "Niger                                276344\n",
      "Name: Aide_Alim, dtype: int64\n"
     ]
    }
   ],
   "metadata": {}
  },
  {
   "cell_type": "markdown",
   "source": [
    "**Sans étonnement on retrouve dans ce classement les pays les plus [pauvres](https://www.banquemondiale.org/fr/topic/poverty/overview) (Soudan du Sud, Niger, République démocratique du Congo, Somalie, Bangladesh...), des pays qui ont souffert, durant la période 2013-2017, d'instabilités politiques importantes voire de guerre (République Arabe Syrienne, Yémen, Soudan), parfois même les deux. Le fait que ces ays aient donc bénéficier de beaucoup d'aide international n'est donc pas surprenant.**"
   ],
   "metadata": {}
  },
  {
   "cell_type": "markdown",
   "source": [
    "**Les pays ayant le plus et le moins de disponibilité alimentaire par habitant:**\r\n",
    "---"
   ],
   "metadata": {}
  },
  {
   "cell_type": "code",
   "execution_count": 26,
   "source": [
    "# Population en 2013 par pays\r\n",
    "Pop_Zone_2013 = population_df.loc[(population_df[\"Annee\"]==\"2013\"),(\"Zone\",\"Population\")]\r\n",
    "\r\n",
    "# Somme des disponibilités alimentaires par pays:\r\n",
    "Dispo_Nourriture_Zone = dispo_alimentaire_df.groupby([\"Zone\"])[[\"Nourriture\"]].sum() \r\n",
    "\r\n",
    "# Création d'un DataFrame contenant toutes les données pour le calcul:\r\n",
    "pop_dispo_alim_df = pd.merge(Pop_Zone_2013, Dispo_Nourriture_Zone,on=[\"Zone\"])\r\n",
    "pop_dispo_alim_df[\"Dispo_Habitants\"] = pop_dispo_alim_df[\"Nourriture\"]/pop_dispo_alim_df[\"Population\"]\r\n",
    "\r\n",
    "#Réponses:\r\n",
    "print(\"Pays ayant le plus de disponibilité par habitants:\")\r\n",
    "print(pop_dispo_alim_df.nlargest(10, \"Dispo_Habitants\"))\r\n",
    "print(\"  \")\r\n",
    "print(\"Pays ayant le moins de disponibilité par habitants:\")\r\n",
    "print(pop_dispo_alim_df.nsmallest(10, \"Dispo_Habitants\"))\r\n",
    "\r\n"
   ],
   "outputs": [
    {
     "output_type": "stream",
     "name": "stdout",
     "text": [
      "Pays ayant le plus de disponibilité par habitants:\n",
      "           Zone  Population  Nourriture  Dispo_Habitants\n",
      "108  Monténégro     626.345     752.000            1.201\n",
      "2       Albanie    2903.790    3476.000            1.197\n",
      "78      Irlande    4615.422    5320.000            1.153\n",
      "95   Luxembourg     542.560     607.000            1.119\n",
      "64        Grèce   10740.500   11919.000            1.110\n",
      "58     Finlande    5438.982    5938.000            1.092\n",
      "138    Roumanie   20132.776   21798.000            1.083\n",
      "125    Pays-Bas   16843.502   17924.000            1.064\n",
      "11     Autriche    8556.189    9085.000            1.062\n",
      "94     Lituanie    3008.934    3169.000            1.053\n",
      "  \n",
      "Pays ayant le moins de disponibilité par habitants:\n",
      "              Zone  Population  Nourriture  Dispo_Habitants\n",
      "156          Tchad   13220.433    4097.000            0.310\n",
      "0      Afghanistan   32269.589   10735.000            0.333\n",
      "170         Zambie   14926.544    5088.000            0.341\n",
      "55        Éthiopie   95385.798   33361.000            0.350\n",
      "171       Zimbabwe   13350.373    4762.000            0.357\n",
      "61          Gambie    1963.712     701.000            0.357\n",
      "158    Timor-Leste    1153.294     419.000            0.363\n",
      "169          Yémen   25147.109    9162.000            0.364\n",
      "68   Guinée-Bissau    1648.255     609.000            0.369\n",
      "14      Bangladesh  152761.418   57092.000            0.374\n"
     ]
    }
   ],
   "metadata": {}
  },
  {
   "cell_type": "markdown",
   "source": [
    "**Le premier classement est plutôt surprenant, on y retrouve des pays européens, plutôt riches mais sans pour autant y voir les plus grandes puissances occidentales, ce qui peut s'expliquer par la forte proportion de valeurs manquantes dans les data set mais aussi par l'importantce de leur population qui fait baisser le ratio.**\r\n",
    "\r\n",
    "**Le second classement en revanche lui est assez attendus, en particulier si on étend à 20 résultats, on retrouve tous les pays les plus précaires en 2013 d'après les dernières données de la FAO compilées [ici](https://fr.wikipedia.org/wiki/Liste_des_pays_par_taux_de_malnutrition).**"
   ],
   "metadata": {}
  },
  {
   "cell_type": "markdown",
   "source": [
    "Autres informations:\r\n",
    "==="
   ],
   "metadata": {}
  },
  {
   "cell_type": "markdown",
   "source": [
    "**Poduits les plus importés:**\r\n",
    "---"
   ],
   "metadata": {}
  },
  {
   "cell_type": "code",
   "execution_count": 27,
   "source": [
    "produits_importés = dispo_alimentaire_df.groupby([\"Produit\"])[\"Importations\"].sum()\r\n",
    "\r\n",
    "print(produits_importés.nlargest(10))"
   ],
   "outputs": [
    {
     "output_type": "stream",
     "name": "stdout",
     "text": [
      "Produit\n",
      "Blé                  185377.000\n",
      "Maïs                 122691.000\n",
      "Lait - Excl Beurre   116806.000\n",
      "Soja                 102082.000\n",
      "Sucre Eq Brut         61615.000\n",
      "Huile de Palme        48858.000\n",
      "Légumes, Autres       43333.000\n",
      "Orge                  38689.000\n",
      "Manioc                38370.000\n",
      "Riz (Eq Blanchi)      37618.000\n",
      "Name: Importations, dtype: float64\n"
     ]
    }
   ],
   "metadata": {}
  },
  {
   "cell_type": "markdown",
   "source": [
    "**On retrouve beaucoup de céréales.**"
   ],
   "metadata": {}
  },
  {
   "cell_type": "markdown",
   "source": [
    "**Pays exportant le plus:**\r\n",
    "---"
   ],
   "metadata": {}
  },
  {
   "cell_type": "code",
   "execution_count": 28,
   "source": [
    "pays_exportateurs = dispo_alimentaire_df.groupby([\"Zone\",\"Produit\"])[\"Exportations\"].sum()\r\n",
    "\r\n",
    "print(pays_exportateurs.nlargest(10))"
   ],
   "outputs": [
    {
     "output_type": "stream",
     "name": "stdout",
     "text": [
      "Zone                   Produit       \n",
      "Brésil                 Soja             42797.000\n",
      "États-Unis d'Amérique  Soja             39184.000\n",
      "                       Blé              34691.000\n",
      "Brésil                 Sucre Eq Brut    27728.000\n",
      "                       Maïs             26780.000\n",
      "Thaïlande              Manioc           25214.000\n",
      "États-Unis d'Amérique  Maïs             24655.000\n",
      "Indonésie              Huile de Palme   23333.000\n",
      "France                 Blé              21502.000\n",
      "Canada                 Blé              20704.000\n",
      "Name: Exportations, dtype: float64\n"
     ]
    }
   ],
   "metadata": {}
  },
  {
   "cell_type": "markdown",
   "source": [
    "**On voit notamment que la Thaïlande est un grand exportateur de Manioc. On retrouve là encore beaucoup de céréales.**"
   ],
   "metadata": {}
  },
  {
   "cell_type": "markdown",
   "source": [
    "**Le Manioc en Thaïlande:**\r\n",
    "---"
   ],
   "metadata": {}
  },
  {
   "cell_type": "code",
   "execution_count": 29,
   "source": [
    "# Utilisation globale du Manioc:\r\n",
    "use_manioc = dispo_alimentaire_df.loc[(dispo_alimentaire_df[\"Produit\"]==\"Manioc\")\r\n",
    "                                    ,(\"Nourriture\",\"Alim_Animale\")].sum()\r\n",
    "\r\n",
    "print(use_manioc)"
   ],
   "outputs": [
    {
     "output_type": "stream",
     "name": "stdout",
     "text": [
      "Nourriture     100637.000\n",
      "Alim_Animale    87056.000\n",
      "dtype: float64\n"
     ]
    }
   ],
   "metadata": {}
  },
  {
   "cell_type": "markdown",
   "source": [
    "**Le manioc est globalement très utilisé dans l'alimentation humaine mais sert également à l'alimentation animale**"
   ],
   "metadata": {}
  },
  {
   "cell_type": "code",
   "execution_count": 30,
   "source": [
    "# On ne récupère que la partie concernant le manioc en Thaïlande du DataFrame dispo_alimentaire:\r\n",
    "manioc_thailande = dispo_alimentaire_df.loc[(dispo_alimentaire_df[\"Zone\"]==\"Thaïlande\")\r\n",
    "                                            &(dispo_alimentaire_df[\"Produit\"]==\"Manioc\")].iloc[0]\r\n",
    "\r\n",
    "exportation_manioc = manioc_thailande[\"Exportations\"]/manioc_thailande[\"Production\"]\r\n",
    "\r\n",
    "print(round(exportation_manioc*100,2),\r\n",
    "     \"% du Manioc produit est exporté soit\",\r\n",
    "     manioc_thailande[\"Exportations\"],\r\n",
    "     \"milliers de tonnes.\")\r\n",
    "\r\n",
    "# Sous nutrition en 2013 en ThaÏlande:\r\n",
    "pop_thai_2013 = Pop_Zone_2013.loc[(Pop_Zone_2013[\"Zone\"]==\"Thaïlande\")\r\n",
    "                                 ,(\"Population\")]\r\n",
    "\r\n",
    "sous_nut_thai_2013 = sous_nutrition_df.loc[(sous_nutrition_df[\"Annee\"]==2013)\r\n",
    "                                          &(sous_nutrition_df[\"Zone\"]==\"Thaïlande\")\r\n",
    "                                          ,(\"Sous_Nutrition\")].iloc[0]\r\n",
    "\r\n",
    "proportion_sous_nut_thai_2013 = sous_nut_thai_2013*100/pop_thai_2013*10\r\n",
    "\r\n",
    "print(pop_thai_2013,\"milliers de personnes\")\r\n",
    "print(sous_nut_thai_2013,\"millions de personnes\")\r\n",
    "print(proportion_sous_nut_thai_2013,\"% de la population est en sous nutrition en 2013\")"
   ],
   "outputs": [
    {
     "output_type": "stream",
     "name": "stdout",
     "text": [
      "83.41 % du Manioc produit est exporté soit 25214.0 milliers de tonnes.\n",
      "1308   68144.518\n",
      "Name: Population, dtype: float64 milliers de personnes\n",
      "6.2 millions de personnes\n",
      "1308   0.091\n",
      "Name: Population, dtype: float64 % de la population est en sous nutrition en 2013\n"
     ]
    }
   ],
   "metadata": {}
  },
  {
   "cell_type": "markdown",
   "source": [
    "**La Thaïlande a donc exporté 83,41% de sa production de manioc vers l'étranger en 2013 soit 25 214 milliers de tonnes. Avec 68144.518 milliers d'habitants et 6,2 millions de personnes en sous-nutrition en 2013, 9,1% de la population en Thaïlande souffrent de sous-nutrition.**"
   ],
   "metadata": {}
  },
  {
   "cell_type": "markdown",
   "source": [
    "**Ratio consommation de céréales pour l'alimentation humaine ou animale:**\r\n",
    "---"
   ],
   "metadata": {}
  },
  {
   "cell_type": "code",
   "execution_count": 31,
   "source": [
    "liste_cereales = cereales_df[\"Produit\"].unique()\r\n",
    "\r\n",
    "dispo_cereales = dispo_alimentaire_df[dispo_alimentaire_df[\"Produit\"].isin(liste_cereales)]\r\n",
    "\r\n",
    "proportion_cereales_tot = dispo_cereales[[\"Alim_Animale\",\"Nourriture\"]].sum()\r\n",
    "\r\n",
    "proportion_alim_animale = proportion_cereales_tot.Alim_Animale/proportion_cereales_tot.sum()\r\n",
    "\r\n",
    "print(\"Proportion pour l'alimentation animale:\",round(proportion_alim_animale,2))\r\n",
    "print(\"Proportion pour l'alimentation humaine:\",round(1-proportion_alim_animale,2))\r\n",
    "\r\n",
    "#Sous forme graphique:\r\n",
    "plt.figure(figsize=(5,5))\r\n",
    "fig2 = plt.pie(\r\n",
    "    [proportion_alim_animale,1-proportion_alim_animale], \r\n",
    "    labels=[\"Alimentation animale\",\"Alimentation humaine\"],\r\n",
    "    autopct=lambda x:str(round(x, 2))+\"%\",\r\n",
    "    colors=colors,\r\n",
    "    shadow=True\r\n",
    "                )\r\n",
    "plot = plt.title(\"Répartition de la consomation de céréales alimentaires\")\r\n"
   ],
   "outputs": [
    {
     "output_type": "stream",
     "name": "stdout",
     "text": [
      "Proportion pour l'alimentation animale: 0.46\n",
      "Proportion pour l'alimentation humaine: 0.54\n"
     ]
    },
    {
     "output_type": "display_data",
     "data": {
      "image/png": "[encoded data removed]",
      "text/plain": [
       "<Figure size 360x360 with 1 Axes>"
      ]
     },
     "metadata": {}
    }
   ],
   "metadata": {}
  },
  {
   "cell_type": "markdown",
   "source": [
    "**Environ 46% des céréales consommées dans le monde le sont pour l'alimentation animale.**"
   ],
   "metadata": {}
  }
 ],
 "metadata": {
  "orig_nbformat": 4,
  "language_info": {
   "name": "python",
   "version": "3.8.8",
   "mimetype": "text/x-python",
   "codemirror_mode": {
    "name": "ipython",
    "version": 3
   },
   "pygments_lexer": "ipython3",
   "nbconvert_exporter": "python",
   "file_extension": ".py"
  },
  "kernelspec": {
   "name": "python3",
   "display_name": "Python 3.8.8 64-bit ('base': conda)"
  },
  "interpreter": {
   "hash": "404051c4332f3092e5aa7fdae49aa9cc513071843651b7fc7d1945385bcec5c0"
  }
 },
 "nbformat": 4,
 "nbformat_minor": 2
}